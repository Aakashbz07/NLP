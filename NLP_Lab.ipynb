{
 "cells": [
  {
   "cell_type": "markdown",
   "id": "7d5eeb24-3df5-421d-80b0-4312113e66fd",
   "metadata": {},
   "source": [
    "# `AIM:` Convert the following sentence into tokens \"NLP is Fun, you must learn it\" into lowercase.\n",
    "- Without splitting\n",
    "- With splitting"
   ]
  },
  {
   "cell_type": "code",
   "execution_count": null,
   "id": "eec5ce11-a0aa-4bf2-9ccd-1a64ece6386d",
   "metadata": {},
   "outputs": [],
   "source": []
  }
 ],
 "metadata": {
  "kernelspec": {
   "display_name": "Python 3 (ipykernel)",
   "language": "python",
   "name": "python3"
  },
  "language_info": {
   "codemirror_mode": {
    "name": "ipython",
    "version": 3
   },
   "file_extension": ".py",
   "mimetype": "text/x-python",
   "name": "python",
   "nbconvert_exporter": "python",
   "pygments_lexer": "ipython3",
   "version": "3.10.12"
  }
 },
 "nbformat": 4,
 "nbformat_minor": 5
}
